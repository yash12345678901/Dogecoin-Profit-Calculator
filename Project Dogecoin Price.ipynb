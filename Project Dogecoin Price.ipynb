{
 "cells": [
  {
   "cell_type": "code",
   "execution_count": 1,
   "metadata": {},
   "outputs": [],
   "source": [
    "# Build a dogecoin prophet calculator"
   ]
  },
  {
   "cell_type": "code",
   "execution_count": 1,
   "metadata": {},
   "outputs": [],
   "source": [
    "# import some libraries\n",
    "import numpy as np\n",
    "import pandas as pd"
   ]
  },
  {
   "cell_type": "code",
   "execution_count": 2,
   "metadata": {},
   "outputs": [],
   "source": [
    "data = pd.read_csv(r'C:\\Users\\Yash Kumar\\Documents\\Dogecoin_Price_Prediction\\DOGE-USD.csv')"
   ]
  },
  {
   "cell_type": "code",
   "execution_count": 10,
   "metadata": {},
   "outputs": [
    {
     "data": {
      "text/html": [
       "<div>\n",
       "<style scoped>\n",
       "    .dataframe tbody tr th:only-of-type {\n",
       "        vertical-align: middle;\n",
       "    }\n",
       "\n",
       "    .dataframe tbody tr th {\n",
       "        vertical-align: top;\n",
       "    }\n",
       "\n",
       "    .dataframe thead th {\n",
       "        text-align: right;\n",
       "    }\n",
       "</style>\n",
       "<table border=\"1\" class=\"dataframe\">\n",
       "  <thead>\n",
       "    <tr style=\"text-align: right;\">\n",
       "      <th></th>\n",
       "      <th>Date</th>\n",
       "      <th>Open</th>\n",
       "      <th>High</th>\n",
       "      <th>Low</th>\n",
       "      <th>Close</th>\n",
       "      <th>Adj Close</th>\n",
       "      <th>Volume</th>\n",
       "    </tr>\n",
       "  </thead>\n",
       "  <tbody>\n",
       "    <tr>\n",
       "      <th>2014-09-17</th>\n",
       "      <td>2014-09-17</td>\n",
       "      <td>0.000293</td>\n",
       "      <td>0.000299</td>\n",
       "      <td>0.000260</td>\n",
       "      <td>0.000268</td>\n",
       "      <td>0.000268</td>\n",
       "      <td>1463600.0</td>\n",
       "    </tr>\n",
       "    <tr>\n",
       "      <th>2014-09-18</th>\n",
       "      <td>2014-09-18</td>\n",
       "      <td>0.000268</td>\n",
       "      <td>0.000325</td>\n",
       "      <td>0.000267</td>\n",
       "      <td>0.000298</td>\n",
       "      <td>0.000298</td>\n",
       "      <td>2215910.0</td>\n",
       "    </tr>\n",
       "    <tr>\n",
       "      <th>2014-09-19</th>\n",
       "      <td>2014-09-19</td>\n",
       "      <td>0.000298</td>\n",
       "      <td>0.000307</td>\n",
       "      <td>0.000275</td>\n",
       "      <td>0.000277</td>\n",
       "      <td>0.000277</td>\n",
       "      <td>883563.0</td>\n",
       "    </tr>\n",
       "    <tr>\n",
       "      <th>2014-09-20</th>\n",
       "      <td>2014-09-20</td>\n",
       "      <td>0.000276</td>\n",
       "      <td>0.000310</td>\n",
       "      <td>0.000267</td>\n",
       "      <td>0.000292</td>\n",
       "      <td>0.000292</td>\n",
       "      <td>993004.0</td>\n",
       "    </tr>\n",
       "    <tr>\n",
       "      <th>2014-09-21</th>\n",
       "      <td>2014-09-21</td>\n",
       "      <td>0.000293</td>\n",
       "      <td>0.000299</td>\n",
       "      <td>0.000284</td>\n",
       "      <td>0.000288</td>\n",
       "      <td>0.000288</td>\n",
       "      <td>539140.0</td>\n",
       "    </tr>\n",
       "  </tbody>\n",
       "</table>\n",
       "</div>"
      ],
      "text/plain": [
       "                  Date      Open      High       Low     Close  Adj Close  \\\n",
       "2014-09-17  2014-09-17  0.000293  0.000299  0.000260  0.000268   0.000268   \n",
       "2014-09-18  2014-09-18  0.000268  0.000325  0.000267  0.000298   0.000298   \n",
       "2014-09-19  2014-09-19  0.000298  0.000307  0.000275  0.000277   0.000277   \n",
       "2014-09-20  2014-09-20  0.000276  0.000310  0.000267  0.000292   0.000292   \n",
       "2014-09-21  2014-09-21  0.000293  0.000299  0.000284  0.000288   0.000288   \n",
       "\n",
       "               Volume  \n",
       "2014-09-17  1463600.0  \n",
       "2014-09-18  2215910.0  \n",
       "2014-09-19   883563.0  \n",
       "2014-09-20   993004.0  \n",
       "2014-09-21   539140.0  "
      ]
     },
     "execution_count": 10,
     "metadata": {},
     "output_type": "execute_result"
    }
   ],
   "source": [
    "data = data.set_index(pd.DatetimeIndex(data['Date'].values))\n",
    "data.head()"
   ]
  },
  {
   "cell_type": "code",
   "execution_count": 11,
   "metadata": {},
   "outputs": [
    {
     "name": "stdout",
     "output_type": "stream",
     "text": [
      "Enter amount invested in dollars:5\n",
      "5\n",
      "Enter the date that you invested :2014-09-17\n",
      "2014-09-17\n"
     ]
    }
   ],
   "source": [
    "# Ask the user the amount that they invested and the date that they invested\n",
    "amount_invested = input('Enter amount invested in dollars:')\n",
    "print(amount_invested)\n",
    "invested_date = input('Enter the date that you invested :')\n",
    "print(invested_date)"
   ]
  },
  {
   "cell_type": "code",
   "execution_count": 12,
   "metadata": {},
   "outputs": [
    {
     "name": "stdout",
     "output_type": "stream",
     "text": [
      "You would have between $ 9731.0 and $ 9079.4 as of 2021-05-16\n"
     ]
    }
   ],
   "source": [
    "# Get the low and high price for the day that the user invested to get a price range\n",
    "# create the variables to store the low and high price column name\n",
    "col1 = 'Low'\n",
    "col2 = 'High'\n",
    "# Get the low and high prices of the asset for the specific day that the user invested\n",
    "price1 = data[col1][invested_date]\n",
    "price2 = data[col2][invested_date]\n",
    "# compute the quantity of the asset that the user would have\n",
    "quantity1 = int(amount_invested)/price1\n",
    "quantity2 = int(amount_invested)/price2\n",
    "# compute the profit range\n",
    "profit1 = (quantity1 *data[col1][-1]) - int(amount_invested)\n",
    "profit2 = (quantity2 *data[col2][-1]) - int(amount_invested)\n",
    "# print the range the amount that the user would have made or loss\n",
    "print('You would have between $', round(profit1, 2), 'and $', round(profit2, 2), 'as of', data['Date'][-1])"
   ]
  },
  {
   "cell_type": "code",
   "execution_count": 13,
   "metadata": {},
   "outputs": [
    {
     "name": "stdout",
     "output_type": "stream",
     "text": [
      "Your return on investment(ROI) would be between 194620.0 % and 181587.96 % as of 2021-05-16\n"
     ]
    }
   ],
   "source": [
    "# Return on investment (ROI) range\n",
    "ROI1 = profit1/int(amount_invested)*100\n",
    "ROI2 = profit2/int(amount_invested)*100\n",
    "# Print the ROI Range\n",
    "print('Your return on investment(ROI) would be between', round(ROI1,2), '% and', round(ROI2, 2), '% as of', data['Date'][-1])"
   ]
  },
  {
   "cell_type": "code",
   "execution_count": null,
   "metadata": {},
   "outputs": [],
   "source": []
  }
 ],
 "metadata": {
  "kernelspec": {
   "display_name": "Python 3",
   "language": "python",
   "name": "python3"
  },
  "language_info": {
   "codemirror_mode": {
    "name": "ipython",
    "version": 3
   },
   "file_extension": ".py",
   "mimetype": "text/x-python",
   "name": "python",
   "nbconvert_exporter": "python",
   "pygments_lexer": "ipython3",
   "version": "3.7.9"
  }
 },
 "nbformat": 4,
 "nbformat_minor": 4
}
